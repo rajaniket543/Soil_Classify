{
 "cells": [
  {
   "cell_type": "markdown",
   "id": "d6170f28",
   "metadata": {},
   "source": [
    "Performs inference on the test set."
   ]
  },
  {
   "cell_type": "code",
   "execution_count": null,
   "id": "4b8eb5f3",
   "metadata": {},
   "outputs": [],
   "source": [
    "from src.postprocessing import inference\n",
    "\n",
    "inference(\n",
    "    model_path='best_model.pth',\n",
    "    test_dir='data/soil_classification-2025/test',\n",
    "    test_ids_csv='data/soil_classification-2025/test_ids.csv',\n",
    "    submission_path='submission.csv'\n",
    ")\n"
   ]
  }
 ],
 "metadata": {
  "kernelspec": {
   "display_name": "Python 3",
   "language": "python",
   "name": "python3"
  },
  "language_info": {
   "codemirror_mode": {
    "name": "ipython",
    "version": 3
   },
   "file_extension": ".py",
   "mimetype": "text/x-python",
   "name": "python",
   "nbconvert_exporter": "python",
   "pygments_lexer": "ipython3",
   "version": "3.13.3"
  }
 },
 "nbformat": 4,
 "nbformat_minor": 5
}
