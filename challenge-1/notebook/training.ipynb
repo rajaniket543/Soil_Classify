{
 "cells": [
  {
   "cell_type": "markdown",
   "id": "5f43ee05",
   "metadata": {},
   "source": [
    "A simplified notebook calling the modular pipeline."
   ]
  },
  {
   "cell_type": "markdown",
   "id": "addc8e5c",
   "metadata": {},
   "source": [
    "1: Fix Import Path"
   ]
  },
  {
   "cell_type": "code",
   "execution_count": 4,
   "id": "ad86a3a8",
   "metadata": {},
   "outputs": [],
   "source": [
    "import sys\n",
    "import os\n",
    "\n",
    "# Add the root directory to sys.path so modules from src can be imported\n",
    "project_root = os.path.abspath(os.path.join(os.getcwd(), \"..\"))\n",
    "if project_root not in sys.path:\n",
    "    sys.path.append(project_root)\n"
   ]
  },
  {
   "cell_type": "markdown",
   "id": "d04d48dc",
   "metadata": {},
   "source": [
    " 2: Imports"
   ]
  },
  {
   "cell_type": "code",
   "execution_count": 5,
   "id": "87c5f995",
   "metadata": {},
   "outputs": [],
   "source": [
    "from src.preprocessing import load_data, get_transforms, SoilDataset, split_data\n",
    "from src.model import get_resnet_model\n",
    "from src.train import train_model\n",
    "from torch.utils.data import DataLoader\n",
    "import torch\n"
   ]
  },
  {
   "cell_type": "markdown",
   "id": "9d880416",
   "metadata": {},
   "source": [
    "3: Set Paths and Load Data"
   ]
  },
  {
   "cell_type": "code",
   "execution_count": 8,
   "id": "a6228775",
   "metadata": {},
   "outputs": [],
   "source": [
    "# Paths\n",
    "TRAIN_CSV = \"../data/soil_classification-2025/train_labels.csv\"\n",
    "TRAIN_DIR = \"../data/soil_classification-2025/train\"\n",
    "\n",
    "# Load and prepare data\n",
    "df, label_encoder, class_names = load_data(TRAIN_CSV)\n",
    "train_df, val_df = split_data(df)\n",
    "train_transform, val_transform = get_transforms()\n"
   ]
  },
  {
   "cell_type": "markdown",
   "id": "336862b3",
   "metadata": {},
   "source": [
    "4: Create Datasets and DataLoaders"
   ]
  },
  {
   "cell_type": "code",
   "execution_count": 9,
   "id": "7717f1db",
   "metadata": {},
   "outputs": [],
   "source": [
    "# Create Dataset objects\n",
    "train_dataset = SoilDataset(train_df, TRAIN_DIR, transform=train_transform)\n",
    "val_dataset = SoilDataset(val_df, TRAIN_DIR, transform=val_transform)\n",
    "\n",
    "# Create DataLoaders\n",
    "train_loader = DataLoader(train_dataset, batch_size=32, shuffle=True)\n",
    "val_loader = DataLoader(val_dataset, batch_size=32, shuffle=False)\n"
   ]
  },
  {
   "cell_type": "markdown",
   "id": "636ddb19",
   "metadata": {},
   "source": [
    "5: Initialize Model and Device"
   ]
  },
  {
   "cell_type": "code",
   "execution_count": 10,
   "id": "d6a0eb7d",
   "metadata": {},
   "outputs": [
    {
     "name": "stderr",
     "output_type": "stream",
     "text": [
      "c:\\Users\\rajan\\AppData\\Local\\Programs\\Python\\Python313\\Lib\\site-packages\\torchvision\\models\\_utils.py:208: UserWarning: The parameter 'pretrained' is deprecated since 0.13 and may be removed in the future, please use 'weights' instead.\n",
      "  warnings.warn(\n",
      "c:\\Users\\rajan\\AppData\\Local\\Programs\\Python\\Python313\\Lib\\site-packages\\torchvision\\models\\_utils.py:223: UserWarning: Arguments other than a weight enum or `None` for 'weights' are deprecated since 0.13 and may be removed in the future. The current behavior is equivalent to passing `weights=ResNet18_Weights.IMAGENET1K_V1`. You can also use `weights=ResNet18_Weights.DEFAULT` to get the most up-to-date weights.\n",
      "  warnings.warn(msg)\n"
     ]
    }
   ],
   "source": [
    "# Set device\n",
    "device = torch.device(\"cuda\" if torch.cuda.is_available() else \"cpu\")\n",
    "\n",
    "# Create model\n",
    "model = get_resnet_model(num_classes=len(class_names))\n"
   ]
  },
  {
   "cell_type": "markdown",
   "id": "f4f61fd4",
   "metadata": {},
   "source": [
    " 6: Train the Model"
   ]
  },
  {
   "cell_type": "code",
   "execution_count": 11,
   "id": "0241cf2a",
   "metadata": {},
   "outputs": [
    {
     "name": "stdout",
     "output_type": "stream",
     "text": [
      "Epoch [1/5], Loss: 0.4480, Min F1: 0.8696\n",
      "✅ Model saved.\n",
      "Epoch [2/5], Loss: 0.1494, Min F1: 0.9500\n",
      "✅ Model saved.\n",
      "Epoch [3/5], Loss: 0.0818, Min F1: 0.9195\n",
      "Epoch [4/5], Loss: 0.0644, Min F1: 0.9610\n",
      "✅ Model saved.\n",
      "Epoch [5/5], Loss: 0.0563, Min F1: 0.9512\n"
     ]
    }
   ],
   "source": [
    "# Train\n",
    "train_model(model, train_loader, val_loader, device, num_epochs=5)\n"
   ]
  }
 ],
 "metadata": {
  "kernelspec": {
   "display_name": "Python 3",
   "language": "python",
   "name": "python3"
  },
  "language_info": {
   "codemirror_mode": {
    "name": "ipython",
    "version": 3
   },
   "file_extension": ".py",
   "mimetype": "text/x-python",
   "name": "python",
   "nbconvert_exporter": "python",
   "pygments_lexer": "ipython3",
   "version": "3.13.3"
  }
 },
 "nbformat": 4,
 "nbformat_minor": 5
}
