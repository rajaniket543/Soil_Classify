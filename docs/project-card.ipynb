{
  "cells": [
    {
      "cell_type": "markdown",
      "metadata": {},
      "source": [
        "# \ud83e\udeb4 Project Card \u2013 Soil Image Classification Challenge 2025\n",
        "\n",
        "## \ud83d\udccc Title\n",
        "**Soil and Not-Soil Image Classification using Deep Learning**\n",
        "\n",
        "## \ud83e\udde0 Challenge\n",
        "Develop a binary classifier to differentiate between soil and non-soil images using images of Alluvial, Black, Clay, and Red soil types versus negatives sampled from CIFAR-10.\n",
        "\n",
        "## \ud83d\udcca Dataset\n",
        "- **Positive Samples**: Soil images (`data/train/` with `train_labels.csv`)\n",
        "- **Negative Samples**: CIFAR-10 samples (`data/train_negatives/` with `neg_labels.csv`)\n",
        "- **Test Set**: Unlabeled (`data/test/` with `test_ids.csv`)\n",
        "\n",
        "## \ud83e\uddea Model\n",
        "- **Backbone**: ResNet50 pretrained on ImageNet\n",
        "- **Loss**: CrossEntropyLoss (optional Focal Loss tested)\n",
        "- **Transforms**: Resize, Flip, Rotation, Normalization\n",
        "- **Metric**: F1 Score\n",
        "- **Best Model Tracking**: Based on highest minimum F1 across epochs\n",
        "\n",
        "## \u2699\ufe0f Training Details\n",
        "- Optimizer: Adam\n",
        "- Scheduler: ReduceLROnPlateau\n",
        "- Epochs: 5 to 20 (experiments)\n",
        "- Batch Size: 32\n",
        "- Learning Rate: 1e-4 (default)\n",
        "\n",
        "## \ud83d\udcc8 Output\n",
        "- `outputs/best_model.pth`\n",
        "- `outputs/submission.csv`\n",
        "\n",
        "## \ud83d\uddbc\ufe0f Architecture\n",
        "![Architecture](../architecture.png)\n",
        "\n",
        "## \ud83d\ude80 Usage Instructions\n",
        "1. Run `training.ipynb` to train the model\n",
        "2. Run `inference.ipynb` to generate predictions\n",
        "\n",
        "---\n",
        "\n",
        "Repository organized with modular code in `src/`:\n",
        "- `src/data.py`, `src/model.py`, `src/train.py`, etc.\n"
      ]
    }
  ],
  "metadata": {
    "kernelspec": {
      "display_name": "Python 3",
      "language": "python",
      "name": "python3"
    },
    "language_info": {
      "name": "python",
      "version": "3.10"
    }
  },
  "nbformat": 4,
  "nbformat_minor": 5
}